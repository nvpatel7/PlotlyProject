{
 "cells": [
  {
   "cell_type": "code",
   "execution_count": null,
   "metadata": {},
   "outputs": [],
   "source": [
    "#importing pandas and plotly\n",
    "import pandas as pd\n",
    "import plotly.express as px\n",
    "\n",
    "#reading the csv file\n",
    "df = pd.read_csv('./NYPD_Arrests_Data__Historic_.csv')\n",
    "\n",
    "#changing the date format of the arrest date column to be able to group by year\n",
    "df[\"ARREST_DATE\"] = pd.to_datetime(df[\"ARREST_DATE\"], format=\"%m/%d/%Y\")\n",
    "\n",
    "#create a new column for the year and month so we can make it easier to group by\n",
    "df['year'] = df[\"ARREST_DATE\"].dt.year\n",
    "df['Month'] = df[\"ARREST_DATE\"].dt.month_name()\n",
    "\n",
    "#sorting the month columns since default sort is alphabetical order\n",
    "df['Month'] = pd.Categorical(df['Month'], \n",
    "    categories=['January', 'February', 'March', 'April', 'May', 'June', \n",
    "                'July', 'August', 'September', 'October', 'November', 'December'])\n",
    "df = df.sort_values(\"Month\")\n",
    "\n",
    "#creating the new dataframe with the count of arrests \n",
    "#per month for every year in the original dataframe and resetting the index\n",
    "year_month = df.groupby(['year', 'Month']).size().reset_index(name='Arrests')\n",
    "\n",
    "\n",
    "#creating the line graph\n",
    "fig = px.line(year_month, x = 'Month', y = 'Arrests', color = 'year', markers = True,\n",
    "              title = 'Arrests per Month in New York City Between 2006 and 2021')\n",
    "\n",
    "#updating the layout of the graph\n",
    "fig.update_layout(\n",
    "    font = {\n",
    "        'family': 'Open Sans, monospace',\n",
    "        'color': '#000000',\n",
    "        'size': 12\n",
    "    },\n",
    "    title = {\n",
    "        'font': dict(size = 25, color = '#000000', \n",
    "                     family = 'Open Sans, monospace'),\n",
    "        'x': 0.5,\n",
    "        'y': 0.95,\n",
    "        'xanchor': 'center',\n",
    "        'yanchor': 'top',\n",
    "    }\n",
    ")\n",
    "\n",
    "fig.show()\n",
    "\n"
   ]
  }
 ],
 "metadata": {
  "kernelspec": {
   "display_name": "Python 3 (ipykernel)",
   "language": "python",
   "name": "python3"
  },
  "language_info": {
   "codemirror_mode": {
    "name": "ipython",
    "version": 3
   },
   "file_extension": ".py",
   "mimetype": "text/x-python",
   "name": "python",
   "nbconvert_exporter": "python",
   "pygments_lexer": "ipython3",
   "version": "3.10.9"
  }
 },
 "nbformat": 4,
 "nbformat_minor": 2
}
